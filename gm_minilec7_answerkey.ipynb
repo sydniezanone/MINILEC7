{
 "cells": [
  {
   "cell_type": "code",
   "execution_count": 1,
   "metadata": {},
   "outputs": [],
   "source": [
    "import pandas as pd\n",
    "import numpy as np\n",
    "import matplotlib.pyplot as plt\n",
    "%matplotlib inline"
   ]
  },
  {
   "cell_type": "markdown",
   "metadata": {},
   "source": [
    "<h2>Hypothesis Test Example</h2>"
   ]
  },
  {
   "cell_type": "markdown",
   "metadata": {},
   "source": [
    "10% of the population is made up of lefties. However, after taking a random sample of 500 UC Berkeley students, we discover that 14% of them were left-handed. Now, we suspect that students at UC Berkeley are more likely to be left-handed than the rest of the population. How can we test this? With a hypothesis test!"
   ]
  },
  {
   "cell_type": "markdown",
   "metadata": {},
   "source": [
    "<h3>Hypotheses</h3>"
   ]
  },
  {
   "cell_type": "markdown",
   "metadata": {},
   "source": [
    "Null: 10% of UC Berkeley students are left-handed, just as the rest of the population is. Any difference is due to random chance.\n",
    "\n",
    "Alternative: UC Berkeley students are more likely to be left-handed than the rest of the population."
   ]
  },
  {
   "cell_type": "code",
   "execution_count": 2,
   "metadata": {},
   "outputs": [],
   "source": [
    "def sample_proportions(sample_size, model_props):\n",
    "    \"\"\"Returns an array in which each item corresponds to the proportion of times that corresponding item was \n",
    "    sampled from 'model_props' in 'sample_size' draws\"\"\"\n",
    "    return np.random.multinomial(sample_size, model_props)/sample_size"
   ]
  },
  {
   "cell_type": "markdown",
   "metadata": {},
   "source": [
    "<h3>Choosing a Test Statistic</h3>"
   ]
  },
  {
   "cell_type": "markdown",
   "metadata": {},
   "source": [
    "What would be a good choice? You can choose multiple answers!\n",
    "\n",
    "a) Absolute difference of the proportion of UC Berkeley students who are left-handed and 0.10\n",
    "\n",
    "b) Proportion of UC Berkeley students who are left-handed - 0.10\n",
    "\n",
    "c) Proportion of UC Berkeley students who are left-handed"
   ]
  },
  {
   "cell_type": "markdown",
   "metadata": {},
   "source": [
    "<h3>Observed Value of the Test Statistic</h3>"
   ]
  },
  {
   "cell_type": "code",
   "execution_count": 3,
   "metadata": {},
   "outputs": [],
   "source": [
    "obs_val = 0.14"
   ]
  },
  {
   "cell_type": "markdown",
   "metadata": {},
   "source": [
    "<h3>Simulating Values of the Test Statistic Under the Null</h3>"
   ]
  },
  {
   "cell_type": "code",
   "execution_count": 4,
   "metadata": {},
   "outputs": [
    {
     "data": {
      "text/plain": [
       "(array([ 12.,  62., 150., 200., 241., 206.,  85.,  34.,   7.,   3.]),\n",
       " array([0.064 , 0.0724, 0.0808, 0.0892, 0.0976, 0.106 , 0.1144, 0.1228,\n",
       "        0.1312, 0.1396, 0.148 ]),\n",
       " <a list of 10 Patch objects>)"
      ]
     },
     "execution_count": 4,
     "metadata": {},
     "output_type": "execute_result"
    },
    {
     "data": {
      "image/png": "[encoded data removed]",
      "text/plain": [
       "<Figure size 432x288 with 1 Axes>"
      ]
     },
     "metadata": {
      "needs_background": "light"
     },
     "output_type": "display_data"
    }
   ],
   "source": [
    "model_proportions = [0.10, 0.90]\n",
    "simulated_prop_lefties = []\n",
    "\n",
    "#simulate calculating 1000 values of the test statistic under the model of the null hypothesis:\n",
    "for i in range(1000):\n",
    "    sim_stat = sample_proportions(500, model_proportions)\n",
    "    sim_left_prop = sim_stat[0]\n",
    "    simulated_prop_lefties.append(sim_left_prop)    \n",
    "\n",
    "simulated_prop_lefties = np.array(simulated_prop_lefties)\n",
    "\n",
    "#plot a histogram of our distribution under the null:\n",
    "plt.hist(simulated_prop_lefties)"
   ]
  },
  {
   "cell_type": "markdown",
   "metadata": {},
   "source": [
    "<h3>Calculating a 95% Confidence Interval</h3>"
   ]
  },
  {
   "cell_type": "code",
   "execution_count": 5,
   "metadata": {},
   "outputs": [
    {
     "data": {
      "text/plain": [
       "[0.076, 0.12604999999999994]"
      ]
     },
     "execution_count": 5,
     "metadata": {},
     "output_type": "execute_result"
    }
   ],
   "source": [
    "left_end = np.percentile(simulated_prop_lefties, 2.5)\n",
    "right_end = np.percentile(simulated_prop_lefties, 97.5)\n",
    "ci = [left_end, right_end]\n",
    "ci"
   ]
  },
  {
   "cell_type": "code",
   "execution_count": 6,
   "metadata": {},
   "outputs": [
    {
     "data": {
      "text/plain": [
       "<matplotlib.collections.PathCollection at 0x7f9500a10048>"
      ]
     },
     "execution_count": 6,
     "metadata": {},
     "output_type": "execute_result"
    },
    {
     "data": {
      "image/png": "[encoded data removed]",
      "text/plain": [
       "<Figure size 432x288 with 1 Axes>"
      ]
     },
     "metadata": {
      "needs_background": "light"
     },
     "output_type": "display_data"
    }
   ],
   "source": [
    "#create a visualization showing your null distribution, 95% CI, and observed value:\n",
    "plt.hist(simulated_prop_lefties)\n",
    "plt.plot(ci, [0,0], color = 'yellow')\n",
    "plt.scatter(obs_val, 0, color = 'red')"
   ]
  },
  {
   "cell_type": "markdown",
   "metadata": {},
   "source": [
    "<h3>Calculating P-Value</h3>"
   ]
  },
  {
   "cell_type": "code",
   "execution_count": 7,
   "metadata": {},
   "outputs": [
    {
     "data": {
      "text/plain": [
       "0.003"
      ]
     },
     "execution_count": 7,
     "metadata": {},
     "output_type": "execute_result"
    }
   ],
   "source": [
    "p_value = sum(simulated_prop_lefties >= obs_val)/len(simulated_prop_lefties)\n",
    "p_value"
   ]
  }
 ],
 "metadata": {
  "kernelspec": {
   "display_name": "Python 3",
   "language": "python",
   "name": "python3"
  },
  "language_info": {
   "codemirror_mode": {
    "name": "ipython",
    "version": 3
   },
   "file_extension": ".py",
   "mimetype": "text/x-python",
   "name": "python",
   "nbconvert_exporter": "python",
   "pygments_lexer": "ipython3",
   "version": "3.6.9"
  }
 },
 "nbformat": 4,
 "nbformat_minor": 4
}
